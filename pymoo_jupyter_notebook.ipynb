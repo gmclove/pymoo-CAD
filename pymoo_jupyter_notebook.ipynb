{
 "cells": [
  {
   "cell_type": "code",
   "execution_count": 1,
   "metadata": {},
   "outputs": [
    {
     "name": "stdout",
     "output_type": "stream",
     "text": [
      "conda 4.8.3\n",
      "\n",
      "Note: you may need to restart the kernel to use updated packages.\n"
     ]
    }
   ],
   "source": [
    "conda --version"
   ]
  },
  {
   "cell_type": "code",
   "execution_count": 2,
   "metadata": {},
   "outputs": [
    {
     "name": "stdout",
     "output_type": "stream",
     "text": [
      "Collecting pymoo\n",
      "  Downloading pymoo-0.4.1-cp37-cp37m-win_amd64.whl (541 kB)\n",
      "Collecting autograd>=1.3\n",
      "  Downloading autograd-1.3.tar.gz (38 kB)\n",
      "Requirement already satisfied: numpy>=1.15 in c:\\users\\blove\\anaconda3\\lib\\site-packages (from pymoo) (1.18.1)\n",
      "Requirement already satisfied: scipy>=1.1 in c:\\users\\blove\\anaconda3\\lib\\site-packages (from pymoo) (1.4.1)\n",
      "Requirement already satisfied: matplotlib>=3 in c:\\users\\blove\\anaconda3\\lib\\site-packages (from pymoo) (3.1.3)\n",
      "Collecting cma==2.7\n",
      "  Downloading cma-2.7.0-py2.py3-none-any.whl (239 kB)\n",
      "Requirement already satisfied: future>=0.15.2 in c:\\users\\blove\\anaconda3\\lib\\site-packages (from autograd>=1.3->pymoo) (0.18.2)\n",
      "Requirement already satisfied: cycler>=0.10 in c:\\users\\blove\\anaconda3\\lib\\site-packages (from matplotlib>=3->pymoo) (0.10.0)\n",
      "Requirement already satisfied: python-dateutil>=2.1 in c:\\users\\blove\\anaconda3\\lib\\site-packages (from matplotlib>=3->pymoo) (2.8.1)\n",
      "Requirement already satisfied: kiwisolver>=1.0.1 in c:\\users\\blove\\anaconda3\\lib\\site-packages (from matplotlib>=3->pymoo) (1.1.0)\n",
      "Requirement already satisfied: pyparsing!=2.0.4,!=2.1.2,!=2.1.6,>=2.0.1 in c:\\users\\blove\\anaconda3\\lib\\site-packages (from matplotlib>=3->pymoo) (2.4.6)\n",
      "Requirement already satisfied: six in c:\\users\\blove\\anaconda3\\lib\\site-packages (from cycler>=0.10->matplotlib>=3->pymoo) (1.14.0)\n",
      "Requirement already satisfied: setuptools in c:\\users\\blove\\anaconda3\\lib\\site-packages (from kiwisolver>=1.0.1->matplotlib>=3->pymoo) (45.2.0.post20200210)\n",
      "Building wheels for collected packages: autograd\n",
      "  Building wheel for autograd (setup.py): started\n",
      "  Building wheel for autograd (setup.py): finished with status 'done'\n",
      "  Created wheel for autograd: filename=autograd-1.3-py3-none-any.whl size=47994 sha256=40140a1237a0a29e19c54056511d131d1bf0546d1944c1236710fc5968026bf4\n",
      "  Stored in directory: c:\\users\\blove\\appdata\\local\\pip\\cache\\wheels\\ef\\32\\31\\0e87227cd0ca1d99ad51fbe4b54c6fa02afccf7e483d045e04\n",
      "Successfully built autograd\n",
      "Installing collected packages: autograd, cma, pymoo\n",
      "Successfully installed autograd-1.3 cma-2.7.0 pymoo-0.4.1\n",
      "Note: you may need to restart the kernel to use updated packages.\n"
     ]
    }
   ],
   "source": [
    "pip install pymoo"
   ]
  },
  {
   "cell_type": "code",
   "execution_count": 3,
   "metadata": {},
   "outputs": [],
   "source": [
    "import pymoo"
   ]
  },
  {
   "cell_type": "code",
   "execution_count": 3,
   "metadata": {},
   "outputs": [
    {
     "name": "stdout",
     "output_type": "stream",
     "text": [
      "^C\n",
      "\n",
      "Note: you may need to restart the kernel to use updated packages.\n"
     ]
    }
   ],
   "source": [
    "conda create -n pymoo -y python==3.7 numpy"
   ]
  },
  {
   "cell_type": "code",
   "execution_count": 4,
   "metadata": {},
   "outputs": [
    {
     "name": "stdout",
     "output_type": "stream",
     "text": [
      "Collecting package metadata (current_repodata.json): ...working... done\n",
      "Solving environment: ...working... done\n",
      "\n",
      "# All requested packages already installed.\n",
      "\n",
      "\n",
      "Note: you may need to restart the kernel to use updated packages.\n"
     ]
    }
   ],
   "source": [
    "conda update -n base -c defaults conda"
   ]
  },
  {
   "cell_type": "code",
   "execution_count": 5,
   "metadata": {},
   "outputs": [
    {
     "name": "stdout",
     "output_type": "stream",
     "text": [
      "\n",
      "Note: you may need to restart the kernel to use updated packages.\n"
     ]
    }
   ],
   "source": [
    "conda activate pymoo"
   ]
  },
  {
   "cell_type": "markdown",
   "metadata": {},
   "source": [
    "python -c \"from pymoo.util.function_loader import is_compiled;print('Compiled Extensions: ', is_compiled())\""
   ]
  },
  {
   "cell_type": "code",
   "execution_count": 7,
   "metadata": {},
   "outputs": [
    {
     "ename": "SyntaxError",
     "evalue": "invalid syntax (<ipython-input-7-3a56e0662134>, line 1)",
     "output_type": "error",
     "traceback": [
      "\u001b[1;36m  File \u001b[1;32m\"<ipython-input-7-3a56e0662134>\"\u001b[1;36m, line \u001b[1;32m1\u001b[0m\n\u001b[1;33m    make compile\u001b[0m\n\u001b[1;37m               ^\u001b[0m\n\u001b[1;31mSyntaxError\u001b[0m\u001b[1;31m:\u001b[0m invalid syntax\n"
     ]
    }
   ],
   "source": [
    "make compile"
   ]
  },
  {
   "cell_type": "markdown",
   "metadata": {},
   "source": [
    "# Algorithms\n",
    "## NSGA2"
   ]
  },
  {
   "cell_type": "code",
   "execution_count": 8,
   "metadata": {
    "scrolled": true
   },
   "outputs": [
    {
     "data": {
      "image/png": "[encoded data removed]",
      "text/plain": [
       "<Figure size 576x432 with 1 Axes>"
      ]
     },
     "metadata": {
      "needs_background": "light"
     },
     "output_type": "display_data"
    }
   ],
   "source": [
    "from pymoo.algorithms.nsga2 import NSGA2\n",
    "from pymoo.factory import get_problem\n",
    "from pymoo.optimize import minimize\n",
    "from pymoo.visualization.scatter import Scatter\n",
    "\n",
    "problem = get_problem(\"zdt1\")\n",
    "\n",
    "algorithm = NSGA2(pop_size=100)\n",
    "\n",
    "res = minimize(problem,\n",
    "               algorithm,\n",
    "               ('n_gen', 200),\n",
    "               seed=1,\n",
    "               verbose=False)\n",
    "\n",
    "plot = Scatter()\n",
    "plot.add(problem.pareto_front(), plot_type=\"line\", color=\"black\", alpha=0.7)\n",
    "plot.add(res.F, color=\"red\")\n",
    "plot.show()"
   ]
  },
  {
   "cell_type": "markdown",
   "metadata": {},
   "source": [
    "## ZDT1"
   ]
  },
  {
   "cell_type": "code",
   "execution_count": 9,
   "metadata": {},
   "outputs": [],
   "source": [
    "from pymoo.factory import get_problem\n",
    "\n",
    "zdt1 = get_problem(\"zdt1\")"
   ]
  },
  {
   "cell_type": "markdown",
   "metadata": {},
   "source": [
    "# Example Problem\n",
    "### Define Problem"
   ]
  },
  {
   "cell_type": "code",
   "execution_count": 10,
   "metadata": {},
   "outputs": [],
   "source": [
    "import numpy as np\n",
    "from pymoo.util.misc import stack\n",
    "from pymoo.model.problem import Problem\n",
    "\n",
    "class MyProblem(Problem):\n",
    "\n",
    "    def __init__(self):\n",
    "        super().__init__(n_var=2,\n",
    "                         n_obj=2,\n",
    "                         n_constr=2,\n",
    "                         xl=np.array([-2,-2]),\n",
    "                         xu=np.array([2,2]))\n",
    "\n",
    "    def _evaluate(self, x, out, *args, **kwargs):\n",
    "        f1 = x[:,0]**2 + x[:,1]**2\n",
    "        f2 = (x[:,0]-1)**2 + x[:,1]**2\n",
    "\n",
    "        g1 = 2*(x[:, 0]-0.1) * (x[:, 0]-0.9) / 0.18\n",
    "        g2 = - 20*(x[:, 0]-0.4) * (x[:, 0]-0.6) / 4.8\n",
    "\n",
    "        out[\"F\"] = np.column_stack([f1, f2])\n",
    "        out[\"G\"] = np.column_stack([g1, g2])\n",
    "\n",
    "\n",
    "    # --------------------------------------------------\n",
    "    # Pareto-front - not necessary but used for plotting\n",
    "    # --------------------------------------------------\n",
    "    def _calc_pareto_front(self, flatten=True, **kwargs):\n",
    "        f1_a = np.linspace(0.1**2, 0.4**2, 100)\n",
    "        f2_a = (np.sqrt(f1_a) - 1)**2\n",
    "\n",
    "        f1_b = np.linspace(0.6**2, 0.9**2, 100)\n",
    "        f2_b = (np.sqrt(f1_b) - 1)**2\n",
    "\n",
    "        a, b = np.column_stack([f1_a, f2_a]), np.column_stack([f1_b, f2_b])\n",
    "        return stack(a, b, flatten=flatten)\n",
    "\n",
    "    # --------------------------------------------------\n",
    "    # Pareto-set - not necessary but used for plotting\n",
    "    # --------------------------------------------------\n",
    "    def _calc_pareto_set(self, flatten=True, **kwargs):\n",
    "        x1_a = np.linspace(0.1, 0.4, 50)\n",
    "        x1_b = np.linspace(0.6, 0.9, 50)\n",
    "        x2 = np.zeros(50)\n",
    "\n",
    "        a, b = np.column_stack([x1_a, x2]), np.column_stack([x1_b, x2])\n",
    "        return stack(a,b, flatten=flatten)\n",
    "\n",
    "problem = MyProblem()"
   ]
  },
  {
   "cell_type": "code",
   "execution_count": null,
   "metadata": {},
   "outputs": [],
   "source": []
  },
  {
   "cell_type": "markdown",
   "metadata": {},
   "source": [
    "### Initialize Algorithm"
   ]
  },
  {
   "cell_type": "code",
   "execution_count": 11,
   "metadata": {},
   "outputs": [],
   "source": [
    "from pymoo.algorithms.nsga2 import NSGA2\n",
    "from pymoo.factory import get_sampling, get_crossover, get_mutation\n",
    "\n",
    "algorithm = NSGA2(\n",
    "    pop_size=40,\n",
    "    n_offsprings=10,\n",
    "    sampling=get_sampling(\"real_random\"),\n",
    "    crossover=get_crossover(\"real_sbx\", prob=0.9, eta=15),\n",
    "    mutation=get_mutation(\"real_pm\", eta=20),\n",
    "    eliminate_duplicates=True\n",
    ")"
   ]
  },
  {
   "cell_type": "markdown",
   "metadata": {},
   "source": [
    "### Define a Termination Criterion\n",
    "Instead of number of generations (or iterations) other criteria such as the number of function evaluations or the improvement in design or objective space from the last to the current generation can be used."
   ]
  },
  {
   "cell_type": "code",
   "execution_count": 12,
   "metadata": {},
   "outputs": [],
   "source": [
    "from pymoo.factory import get_termination\n",
    "\n",
    "termination = get_termination(\"n_gen\", 40)"
   ]
  },
  {
   "cell_type": "markdown",
   "metadata": {},
   "source": [
    "### Solve Problem"
   ]
  },
  {
   "cell_type": "code",
   "execution_count": 24,
   "metadata": {},
   "outputs": [],
   "source": [
    "from pymoo.optimize import minimize\n",
    "\n",
    "res = minimize(problem,\n",
    "               algorithm,\n",
    "               termination,\n",
    "               seed=1,\n",
    "               pf=problem.pareto_front(use_cache=False),\n",
    "               save_history=True,\n",
    "               verbose=False)"
   ]
  },
  {
   "cell_type": "markdown",
   "metadata": {},
   "source": [
    "### Visualize"
   ]
  },
  {
   "cell_type": "code",
   "execution_count": 14,
   "metadata": {},
   "outputs": [
    {
     "data": {
      "image/png": "[encoded data removed]",
      "text/plain": [
       "<Figure size 576x432 with 1 Axes>"
      ]
     },
     "metadata": {
      "needs_background": "light"
     },
     "output_type": "display_data"
    },
    {
     "data": {
      "image/png": "[encoded data removed]",
      "text/plain": [
       "<Figure size 576x432 with 1 Axes>"
      ]
     },
     "metadata": {
      "needs_background": "light"
     },
     "output_type": "display_data"
    }
   ],
   "source": [
    "from pymoo.visualization.scatter import Scatter\n",
    "\n",
    "# get the pareto-set and pareto-front for plotting\n",
    "ps = problem.pareto_set(use_cache=False, flatten=False)\n",
    "pf = problem.pareto_front(use_cache=False, flatten=False)\n",
    "\n",
    "# Design Space\n",
    "plot = Scatter(title = \"Design Space\", axis_labels=\"x\")\n",
    "plot.add(res.X, s=30, facecolors='none', edgecolors='r')\n",
    "plot.add(ps, plot_type=\"line\", color=\"black\", alpha=0.7)\n",
    "plot.do()\n",
    "plot.apply(lambda ax: ax.set_xlim(-0.5, 1.5))\n",
    "plot.apply(lambda ax: ax.set_ylim(-2, 2))\n",
    "plot.show()\n",
    "\n",
    "# Objective Space\n",
    "plot = Scatter(title = \"Objective Space\")\n",
    "plot.add(res.F)\n",
    "plot.add(pf, plot_type=\"line\", color=\"black\", alpha=0.7)\n",
    "plot.show()"
   ]
  },
  {
   "cell_type": "markdown",
   "metadata": {},
   "source": [
    "## Performance Tracking"
   ]
  },
  {
   "cell_type": "code",
   "execution_count": 15,
   "metadata": {},
   "outputs": [
    {
     "data": {
      "image/png": "[encoded data removed]",
      "text/plain": [
       "<Figure size 432x288 with 1 Axes>"
      ]
     },
     "metadata": {
      "needs_background": "light"
     },
     "output_type": "display_data"
    }
   ],
   "source": [
    "import matplotlib.pyplot as plt\n",
    "from pymoo.performance_indicator.hv import Hypervolume\n",
    "\n",
    "# create the performance indicator object with reference point (4,4)\n",
    "metric = Hypervolume(ref_point=np.array([1.0, 1.0]))\n",
    "\n",
    "# collect the population in each generation\n",
    "pop_each_gen = [a.pop for a in res.history]\n",
    "\n",
    "# receive the population in each generation\n",
    "obj_and_feasible_each_gen = [pop[pop.get(\"feasible\")[:,0]].get(\"F\") for pop in pop_each_gen]\n",
    "\n",
    "# calculate for each generation the HV metric\n",
    "hv = [metric.calc(f) for f in obj_and_feasible_each_gen]\n",
    "\n",
    "# function evaluations at each snapshot\n",
    "n_evals = np.array([a.evaluator.n_eval for a in res.history])\n",
    "\n",
    "# visualze the convergence curve\n",
    "plt.plot(n_evals, hv, '-o')\n",
    "plt.title(\"Convergence\")\n",
    "plt.xlabel(\"Function Evaluations\")\n",
    "plt.ylabel(\"Hypervolume\")\n",
    "plt.show()"
   ]
  },
  {
   "cell_type": "markdown",
   "metadata": {},
   "source": [
    "# Interface\n",
    "## Interface: Minimize "
   ]
  },
  {
   "cell_type": "code",
   "execution_count": 16,
   "metadata": {},
   "outputs": [
    {
     "ename": "SyntaxError",
     "evalue": "invalid syntax (<ipython-input-16-18e1aeaadcd5>, line 10)",
     "output_type": "error",
     "traceback": [
      "\u001b[1;36m  File \u001b[1;32m\"<ipython-input-16-18e1aeaadcd5>\"\u001b[1;36m, line \u001b[1;32m10\u001b[0m\n\u001b[1;33m    )\u001b[0m\n\u001b[1;37m     ^\u001b[0m\n\u001b[1;31mSyntaxError\u001b[0m\u001b[1;31m:\u001b[0m invalid syntax\n"
     ]
    }
   ],
   "source": [
    "def minimize(problem,\n",
    "             algorithm,\n",
    "             termination=None,\n",
    "             seed=None,\n",
    "             verbose=False,\n",
    "             display=None,\n",
    "             callback=None,\n",
    "             return_least_infeasible=False,\n",
    "             save_history=False\n",
    "             )"
   ]
  },
  {
   "cell_type": "markdown",
   "metadata": {},
   "source": [
    "seed: Most algorithms underly some randomness. Setting the seed to a positive integer value ensure reproducible results. If not provided a random seed will be set automatically and the used integer will be stored in the Result object.\n",
    "\n",
    "return_least_infeasible: Whether if the algorithm can not find a feasible solution the least infeasible solution should be returned. By default False."
   ]
  },
  {
   "cell_type": "markdown",
   "metadata": {},
   "source": [
    "## Interface: Termination Criteria"
   ]
  },
  {
   "cell_type": "code",
   "execution_count": null,
   "metadata": {},
   "outputs": [],
   "source": [
    "from pymoo.util.termination.default import MultiObjectiveDefaultTermination\n",
    "\n",
    "termination = MultiObjectiveDefaultTermination(\n",
    "    x_tol=1e-8,\n",
    "    cv_tol=1e-6,\n",
    "    f_tol=0.0025,\n",
    "    nth_gen=5,\n",
    "    n_last=30,\n",
    "    n_max_gen=1000,\n",
    "    n_max_evals=100000\n",
    ")"
   ]
  },
  {
   "cell_type": "markdown",
   "metadata": {},
   "source": [
    "tol: What is the tolerance in the objective space in average. If the value is below this bound we terminate.\n",
    "\n",
    "n_last: To make the criterion more robust, we consider the last n generations and take the maximum. This considers the worst case in a window.\n",
    "\n",
    "n_max_gen: As a fallback the generation number can be used. For some problems the termination criterion might not be reached, however, an upper bound for generations can be defined to stop in that case.\n",
    "\n",
    "nth_gen: Defines whenever the termination criterion is calculated. By default, every 10th generation."
   ]
  },
  {
   "cell_type": "markdown",
   "metadata": {},
   "source": [
    "## Interface: Callback"
   ]
  },
  {
   "cell_type": "code",
   "execution_count": null,
   "metadata": {},
   "outputs": [],
   "source": [
    "import matplotlib.pyplot as plt\n",
    "import numpy as np\n",
    "\n",
    "from pymoo.algorithms.so_genetic_algorithm import GA\n",
    "from pymoo.factory import get_problem\n",
    "from pymoo.model.callback import Callback\n",
    "from pymoo.optimize import minimize\n",
    "\n",
    "\n",
    "class MyCallback(Callback):\n",
    "\n",
    "    def __init__(self) -> None:\n",
    "        super().__init__()\n",
    "        self.data[\"best\"] = []\n",
    "\n",
    "    def notify(self, algorithm):\n",
    "        self.data[\"best\"].append(algorithm.pop.get(\"F\").min())\n",
    "\n",
    "\n",
    "problem = get_problem(\"sphere\")\n",
    "\n",
    "algorithm = GA(pop_size=100)\n",
    "\n",
    "res = minimize(problem,\n",
    "               algorithm,\n",
    "               ('n_gen', 20),\n",
    "               seed=1,\n",
    "               callback=MyCallback(),\n",
    "               save_history=True,\n",
    "               verbose=True)\n",
    "\n",
    "val = res.algorithm.callback.data[\"best\"]\n",
    "plt.plot(np.arange(len(val)), val)\n",
    "plt.show()"
   ]
  },
  {
   "cell_type": "markdown",
   "metadata": {},
   "source": [
    "By using the history object the same as above can be achieved by using the stored information during the run:"
   ]
  },
  {
   "cell_type": "code",
   "execution_count": null,
   "metadata": {},
   "outputs": [],
   "source": [
    "val = [e.pop.get(\"F\").min() for e in res.history]\n",
    "plt.plot(np.arange(len(val)), val)\n",
    "plt.show()"
   ]
  },
  {
   "cell_type": "markdown",
   "metadata": {},
   "source": [
    "## Interface: Display\n",
    "To change what is displayed for each gen pass display object to minimize function. "
   ]
  },
  {
   "cell_type": "code",
   "execution_count": null,
   "metadata": {},
   "outputs": [],
   "source": [
    "from pymoo.algorithms.nsga2 import NSGA2\n",
    "from pymoo.factory import get_problem\n",
    "from pymoo.optimize import minimize\n",
    "from pymoo.util.display import Display\n",
    "import numpy as np\n",
    "\n",
    "\n",
    "class MyDisplay(Display):\n",
    "\n",
    "    def _do(self, problem, evaluator, algorithm):\n",
    "        super()._do(problem, evaluator, algorithm)\n",
    "        self.output.append(\"metric_a\", np.mean(algorithm.pop.get(\"X\")))\n",
    "        self.output.append(\"metric_b\", np.mean(algorithm.pop.get(\"F\")))\n",
    "\n",
    "\n",
    "problem = get_problem(\"zdt2\")\n",
    "\n",
    "algorithm = NSGA2(pop_size=100)\n",
    "\n",
    "res = minimize(problem,\n",
    "               algorithm,\n",
    "               ('n_gen', 10),\n",
    "               seed=1,\n",
    "               display=MyDisplay(),\n",
    "               verbose=True)"
   ]
  },
  {
   "cell_type": "markdown",
   "metadata": {},
   "source": [
    "to add more columns see website"
   ]
  },
  {
   "cell_type": "markdown",
   "metadata": {},
   "source": [
    "## Interface: Results "
   ]
  },
  {
   "cell_type": "markdown",
   "metadata": {},
   "source": [
    "res.X - design space values are\n",
    "\n",
    "res.F - objective spaces values\n",
    "\n",
    "res.G - constraint values\n",
    "\n",
    "res.CV - aggregated constraint violation\n",
    "\n",
    "res.algorithm - algorithm object\n",
    "\n",
    "res.pop - final population object\n",
    "\n",
    "res.history - history of algorithm object. (only if save_history has been enabled during the algorithm initialization)\n",
    "\n",
    "res.time - the time required to run the algorithm"
   ]
  },
  {
   "cell_type": "code",
   "execution_count": 28,
   "metadata": {},
   "outputs": [],
   "source": [
    "from pymoo.algorithms.so_genetic_algorithm import GA\n",
    "from pymoo.factory import get_problem\n",
    "from pymoo.optimize import minimize\n",
    "\n",
    "\n",
    "problem = get_problem(\"sphere\")\n",
    "algorithm = GA(pop_size=5)\n",
    "res = minimize(problem,\n",
    "               algorithm,\n",
    "               ('n_gen', 30),\n",
    "               seed=1)"
   ]
  },
  {
   "cell_type": "code",
   "execution_count": 29,
   "metadata": {},
   "outputs": [
    {
     "data": {
      "text/plain": [
       "(array([0.38401994, 0.51096839, 0.51958345, 0.50705362, 0.64625327,\n",
       "        0.52972181, 0.51346167, 0.57393803, 0.48975355, 0.49213286]),\n",
       " array([0.04209328]),\n",
       " None,\n",
       " array([0.]))"
      ]
     },
     "execution_count": 29,
     "metadata": {},
     "output_type": "execute_result"
    }
   ],
   "source": [
    "res.X, res.F, res.G, res.CV"
   ]
  },
  {
   "cell_type": "code",
   "execution_count": 30,
   "metadata": {},
   "outputs": [
    {
     "data": {
      "text/plain": [
       "(<pymoo.algorithms.so_genetic_algorithm.GA at 0x1469aee2a08>,\n",
       " Population([<pymoo.model.individual.Individual object at 0x000001469ABEDE88>,\n",
       "             <pymoo.model.individual.Individual object at 0x000001469ABED488>,\n",
       "             <pymoo.model.individual.Individual object at 0x000001469A367CC8>,\n",
       "             <pymoo.model.individual.Individual object at 0x000001469ABEDDC8>,\n",
       "             <pymoo.model.individual.Individual object at 0x000001469A461B08>],\n",
       "            dtype=object))"
      ]
     },
     "execution_count": 30,
     "metadata": {},
     "output_type": "execute_result"
    }
   ],
   "source": [
    "res.algorithm, res.pop"
   ]
  },
  {
   "cell_type": "code",
   "execution_count": 31,
   "metadata": {},
   "outputs": [
    {
     "data": {
      "text/plain": [
       "(array([[0.38401994, 0.51096839, 0.51958345, 0.50705362, 0.64625327,\n",
       "         0.52972181, 0.51346167, 0.57393803, 0.48975355, 0.49213286],\n",
       "        [0.38401994, 0.51096839, 0.51958345, 0.50705362, 0.64625327,\n",
       "         0.52972181, 0.51346167, 0.57393803, 0.51785226, 0.49213286],\n",
       "        [0.38401994, 0.51099826, 0.44223106, 0.50705362, 0.64625327,\n",
       "         0.52808581, 0.51346167, 0.57393803, 0.39462856, 0.49213286],\n",
       "        [0.38401994, 0.51099826, 0.44223106, 0.50705362, 0.64625327,\n",
       "         0.52864113, 0.51346167, 0.57393803, 0.39462856, 0.49213286],\n",
       "        [0.38401994, 0.47389685, 0.44223106, 0.50705362, 0.64625327,\n",
       "         0.52808581, 0.51346167, 0.57393803, 0.39462856, 0.49213286]]),\n",
       " array([[0.04209328],\n",
       "        [0.04230699],\n",
       "        [0.05595125],\n",
       "        [0.05598275],\n",
       "        [0.05651167]]))"
      ]
     },
     "execution_count": 31,
     "metadata": {},
     "output_type": "execute_result"
    }
   ],
   "source": [
    "res.pop.get(\"X\"), res.pop.get(\"F\")"
   ]
  },
  {
   "cell_type": "markdown",
   "metadata": {},
   "source": [
    "Problem with constraints"
   ]
  },
  {
   "cell_type": "code",
   "execution_count": 32,
   "metadata": {},
   "outputs": [
    {
     "name": "stdout",
     "output_type": "stream",
     "text": [
      "===========================================================================\n",
      "n_gen |  n_eval |   cv (min)   |   cv (avg)   |     fopt     |     favg    \n",
      "===========================================================================\n",
      "    1 |       5 |  1.35027E+02 |  5.47570E+02 |            - |            -\n",
      "    2 |      10 |  1.35027E+02 |  3.16525E+02 |            - |            -\n",
      "    3 |      15 |  1.35027E+02 |  2.16131E+02 |            - |            -\n",
      "    4 |      20 |  1.35027E+02 |  1.60240E+02 |            - |            -\n",
      "    5 |      25 |  1.33435E+02 |  1.38575E+02 |            - |            -\n"
     ]
    }
   ],
   "source": [
    "problem = get_problem(\"g01\")\n",
    "algorithm = GA(pop_size=5)\n",
    "res = minimize(problem,\n",
    "               algorithm,\n",
    "               ('n_gen', 5),\n",
    "               verbose=True,\n",
    "               seed=1)"
   ]
  },
  {
   "cell_type": "code",
   "execution_count": 33,
   "metadata": {},
   "outputs": [
    {
     "data": {
      "text/plain": [
       "(None, None, None, None)"
      ]
     },
     "execution_count": 33,
     "metadata": {},
     "output_type": "execute_result"
    }
   ],
   "source": [
    "res.X, res.F, res.G, res.CV"
   ]
  },
  {
   "cell_type": "markdown",
   "metadata": {},
   "source": [
    "None return means no feasible solution found"
   ]
  },
  {
   "cell_type": "markdown",
   "metadata": {},
   "source": [
    "Multi-objective example:"
   ]
  },
  {
   "cell_type": "code",
   "execution_count": 35,
   "metadata": {},
   "outputs": [],
   "source": [
    "from pymoo.algorithms.nsga2 import NSGA2\n",
    "\n",
    "problem = get_problem(\"zdt2\")\n",
    "algorithm = NSGA2()\n",
    "res = minimize(problem,\n",
    "               algorithm,\n",
    "               ('n_gen', 10),\n",
    "               seed=1)"
   ]
  },
  {
   "cell_type": "code",
   "execution_count": 36,
   "metadata": {},
   "outputs": [
    {
     "data": {
      "text/plain": [
       "array([[4.02723032e-01, 2.92285190e+00],\n",
       "       [2.42936792e-03, 3.09049957e+00],\n",
       "       [6.42640810e-05, 3.80452248e+00],\n",
       "       [9.03843390e-02, 2.97779402e+00],\n",
       "       [7.51601609e-04, 3.12489259e+00],\n",
       "       [2.66638116e-05, 4.15122904e+00],\n",
       "       [5.32367109e-01, 2.91333135e+00],\n",
       "       [7.51074119e-05, 3.17766175e+00],\n",
       "       [9.96726161e-01, 2.73633323e+00],\n",
       "       [9.37668137e-01, 2.76323527e+00],\n",
       "       [2.78148785e-05, 3.90537318e+00]])"
      ]
     },
     "execution_count": 36,
     "metadata": {},
     "output_type": "execute_result"
    }
   ],
   "source": [
    "res.F"
   ]
  },
  {
   "cell_type": "markdown",
   "metadata": {},
   "source": [
    "## Problems"
   ]
  },
  {
   "cell_type": "code",
   "execution_count": 38,
   "metadata": {},
   "outputs": [],
   "source": [
    "import numpy as np\n",
    "from pymoo.model.problem import Problem\n",
    "\n",
    "\n",
    "class SphereWithConstraint(Problem):\n",
    "\n",
    "    def __init__(self):\n",
    "        super().__init__(n_var=10, n_obj=1, n_constr=1, xl=-0, xu=1)\n",
    "\n",
    "    def _evaluate(self, x, out, *args, **kwargs):\n",
    "        out[\"F\"] = np.sum((x - 0.5) ** 2, axis=1)\n",
    "        out[\"G\"] = 0.1 - out[\"F\"]"
   ]
  },
  {
   "cell_type": "markdown",
   "metadata": {},
   "source": [
    "## Algorithms "
   ]
  },
  {
   "cell_type": "code",
   "execution_count": null,
   "metadata": {},
   "outputs": [],
   "source": [
    "from pymoo.algorithms.nsga2 import NSGA2\n",
    "algorithm = NSGA2()\n",
    "\n",
    "from pymoo.factory import get_algorithm\n",
    "algorithm = get_algorithm(\"nsga2\")"
   ]
  },
  {
   "cell_type": "markdown",
   "metadata": {},
   "source": [
    "#### NSGA-III"
   ]
  },
  {
   "cell_type": "code",
   "execution_count": 39,
   "metadata": {},
   "outputs": [
    {
     "data": {
      "image/png": "[encoded data removed]",
      "text/plain": [
       "<Figure size 576x432 with 1 Axes>"
      ]
     },
     "metadata": {
      "needs_background": "light"
     },
     "output_type": "display_data"
    }
   ],
   "source": [
    "from pymoo.algorithms.nsga3 import NSGA3\n",
    "from pymoo.factory import get_problem, get_reference_directions\n",
    "from pymoo.optimize import minimize\n",
    "from pymoo.visualization.scatter import Scatter\n",
    "\n",
    "# create the reference directions to be used for the optimization\n",
    "ref_dirs = get_reference_directions(\"das-dennis\", 3, n_partitions=12)\n",
    "\n",
    "# create the algorithm object\n",
    "algorithm = NSGA3(pop_size=92,\n",
    "                  ref_dirs=ref_dirs)\n",
    "\n",
    "# execute the optimization\n",
    "res = minimize(get_problem(\"dtlz1\"),\n",
    "               algorithm,\n",
    "               seed=1,\n",
    "               termination=('n_gen', 600))\n",
    "\n",
    "Scatter().add(res.F).show()"
   ]
  },
  {
   "cell_type": "code",
   "execution_count": 40,
   "metadata": {
    "scrolled": true
   },
   "outputs": [
    {
     "data": {
      "image/png": "[encoded data removed]",
      "text/plain": [
       "<Figure size 576x432 with 1 Axes>"
      ]
     },
     "metadata": {
      "needs_background": "light"
     },
     "output_type": "display_data"
    }
   ],
   "source": [
    "res = minimize(get_problem(\"dtlz1^-1\"),\n",
    "               algorithm,\n",
    "               seed=1,\n",
    "               termination=('n_gen', 600))\n",
    "\n",
    "Scatter().add(res.F).show()"
   ]
  },
  {
   "cell_type": "markdown",
   "metadata": {},
   "source": [
    "##### Riesz s-Energy"
   ]
  },
  {
   "cell_type": "code",
   "execution_count": 4,
   "metadata": {},
   "outputs": [],
   "source": [
    "from pymoo.factory import get_visualization, get_reference_directions\n",
    "from pymoo.util.ref_dirs.energy import RieszEnergyReferenceDirectionFactory\n",
    "\n",
    "ref_dirs = get_reference_directions(\"energy\", 3, 90, seed=1)\n",
    "#get_visualization(\"scatter\").add(ref_dirs).show()"
   ]
  },
  {
   "cell_type": "code",
   "execution_count": 5,
   "metadata": {},
   "outputs": [],
   "source": [
    "ref_dirs = get_reference_directions(\"energy\", 3, 250, seed=1)\n",
    "#get_visualization(\"scatter\").add(ref_dirs).show()"
   ]
  },
  {
   "cell_type": "markdown",
   "metadata": {},
   "source": [
    "#### Das-Dennis\n",
    "n_partitions\n",
    "\\begin{align}\n",
    "n = C_{p}^{M+p-1} \\\\\n",
    "\\end{align}\n",
    "n = number of points\n",
    "\n",
    "p = number of parameters\n",
    "\n",
    "M = number of objectives\n",
    "\n",
    "EXAMPLE:\n",
    "\\begin{align}\n",
    "p = 10 \\\\\n",
    "M = 3 \\\\\n",
    "C_{10}^{3+10-1} = \\binom{10}{12} = 66 \\\\\n",
    "\\end{align}\n",
    "\n",
    "Interior Points\n",
    "\\begin{align}\n",
    "n_{I} = interior points \\\\\n",
    "n_{I} = \\binom{p-1}{p-M} \\\\\n",
    "\\end{align}"
   ]
  },
  {
   "cell_type": "code",
   "execution_count": 6,
   "metadata": {},
   "outputs": [],
   "source": [
    "ref_dirs = get_reference_directions(\"das-dennis\", 3, n_partitions=12)\n",
    "#get_visualization(\"scatter\").add(ref_dirs).show()"
   ]
  },
  {
   "cell_type": "code",
   "execution_count": 7,
   "metadata": {},
   "outputs": [
    {
     "data": {
      "text/plain": [
       "Text(0.5, 0, 'Dimension')"
      ]
     },
     "execution_count": 7,
     "metadata": {},
     "output_type": "execute_result"
    },
    {
     "data": {
      "image/png": "[encoded data removed]",
      "text/plain": [
       "<Figure size 432x288 with 1 Axes>"
      ]
     },
     "metadata": {
      "needs_background": "light"
     },
     "output_type": "display_data"
    }
   ],
   "source": [
    "import matplotlib.pyplot as plt\n",
    "\n",
    "n_dim = range(3,10)\n",
    "n_points = [len(get_reference_directions(\"das-dennis\", d, n_partitions=12)) for d in n_dim]\n",
    "\n",
    "plt.plot(n_dim, n_points, '--o')\n",
    "plt.title(\"Number of Referenes Directions (p=12)\")\n",
    "plt.ylabel(\"Number of Points\")\n",
    "plt.xlabel(\"Dimension\")\n",
    "#plt.show()"
   ]
  },
  {
   "cell_type": "markdown",
   "metadata": {},
   "source": [
    "#### Multi-layer Approach\n",
    "bias towards the center"
   ]
  },
  {
   "cell_type": "code",
   "execution_count": 8,
   "metadata": {
    "scrolled": true
   },
   "outputs": [],
   "source": [
    "ref_dirs = get_reference_directions(\n",
    "    \"multi-layer\",\n",
    "    get_reference_directions(\"das-dennis\", 3, n_partitions=12, scaling=1.0),\n",
    "    get_reference_directions(\"das-dennis\", 3, n_partitions=12, scaling=0.5)\n",
    ")\n",
    "\n",
    "#get_visualization(\"scatter\").add(ref_dirs).show()"
   ]
  },
  {
   "cell_type": "code",
   "execution_count": 9,
   "metadata": {
    "scrolled": false
   },
   "outputs": [],
   "source": [
    "ref_dirs = get_reference_directions(\n",
    "    \"multi-layer\",\n",
    "    get_reference_directions(\"das-dennis\", 8, n_partitions=3, scaling=1.0),\n",
    "    get_reference_directions(\"das-dennis\", 8, n_partitions=2, scaling=0.5),\n",
    ")\n",
    "\n",
    "#get_visualization(\"pcp\").add(ref_dirs).show()"
   ]
  },
  {
   "cell_type": "markdown",
   "metadata": {},
   "source": [
    "No scaling \n",
    "Riesz s-Energy method to optimize \n",
    "not reference directions directly by scaling"
   ]
  },
  {
   "cell_type": "code",
   "execution_count": 10,
   "metadata": {},
   "outputs": [],
   "source": [
    "partitions = [3, 2, 1, 1]\n",
    "\n",
    "ref_dirs = get_reference_directions(\"layer-energy\", 8, partitions)\n",
    "#get_visualization(\"pcp\").add(ref_dirs).show()"
   ]
  },
  {
   "cell_type": "code",
   "execution_count": 11,
   "metadata": {},
   "outputs": [],
   "source": [
    "from pymoo.util.ref_dirs.energy_layer import LayerwiseRieszEnergyReferenceDirectionFactory\n",
    "\n",
    "fac = LayerwiseRieszEnergyReferenceDirectionFactory(8, partitions)\n",
    "ref_dirs = fac.do()\n",
    "\n",
    "#list(fac.scalings)"
   ]
  },
  {
   "cell_type": "code",
   "execution_count": 12,
   "metadata": {},
   "outputs": [],
   "source": [
    "ref_dirs = get_reference_directions(\"layer-energy\", 3, [9, 5, 2, 1])\n",
    "#get_visualization(\"scatter\").add(ref_dirs).show()"
   ]
  },
  {
   "cell_type": "markdown",
   "metadata": {},
   "source": [
    "#### Compare NSGA-III to U-NSGA-III"
   ]
  },
  {
   "cell_type": "code",
   "execution_count": 13,
   "metadata": {},
   "outputs": [],
   "source": [
    "import numpy as np\n",
    "\n",
    "from pymoo.algorithms.nsga3 import NSGA3\n",
    "from pymoo.algorithms.unsga3 import UNSGA3\n",
    "from pymoo.factory import get_problem\n",
    "from pymoo.optimize import minimize\n",
    "\n",
    "problem = get_problem(\"ackley\", n_var=30)\n",
    "\n",
    "# create the reference directions to be used for the optimization - just a single one here\n",
    "ref_dirs = np.array([[1.0]])\n",
    "\n",
    "# create the algorithm object\n",
    "algorithm = UNSGA3(ref_dirs, pop_size=100)\n",
    "\n",
    "# execute the optimization\n",
    "res = minimize(problem,\n",
    "               algorithm,\n",
    "               termination=('n_gen', 150),\n",
    "               save_history=True,\n",
    "               seed=1)\n",
    "\n",
    "#print(\"UNSGA3: Best solution found: \\nX = %s\\nF = %s\" % (res.X, res.F))"
   ]
  },
  {
   "cell_type": "code",
   "execution_count": 14,
   "metadata": {},
   "outputs": [],
   "source": [
    "_res = minimize(problem,\n",
    "                NSGA3(ref_dirs, pop_size=100),\n",
    "                termination=('n_gen', 150),\n",
    "                save_history=True,\n",
    "                seed=1)\n",
    "#print(\"NSGA3: Best solution found: \\nX = %s\\nF = %s\" % (res.X, res.F))"
   ]
  },
  {
   "cell_type": "code",
   "execution_count": 15,
   "metadata": {},
   "outputs": [
    {
     "data": {
      "text/plain": [
       "<matplotlib.legend.Legend at 0x1fb5bef9a48>"
      ]
     },
     "execution_count": 15,
     "metadata": {},
     "output_type": "execute_result"
    },
    {
     "data": {
      "image/png": "[encoded data removed]",
      "text/plain": [
       "<Figure size 432x288 with 1 Axes>"
      ]
     },
     "metadata": {
      "needs_background": "light"
     },
     "output_type": "display_data"
    }
   ],
   "source": [
    "import numpy as np\n",
    "import matplotlib.pyplot as plt\n",
    "\n",
    "ret = [np.min(e.pop.get(\"F\")) for e in res.history]\n",
    "_ret = [np.min(e.pop.get(\"F\")) for e in _res.history]\n",
    "\n",
    "plt.plot(np.arange(len(ret)), ret, label=\"unsga3\")\n",
    "plt.plot(np.arange(len(_ret)), _ret, label=\"nsga3\")\n",
    "plt.title(\"Convergence\")\n",
    "plt.xlabel(\"Generation\")\n",
    "plt.ylabel(\"F\")\n",
    "plt.legend()\n",
    "#plt.show()"
   ]
  },
  {
   "cell_type": "markdown",
   "metadata": {},
   "source": [
    "#### R-NSGA-II"
   ]
  },
  {
   "cell_type": "code",
   "execution_count": 16,
   "metadata": {},
   "outputs": [
    {
     "data": {
      "image/png": "[encoded data removed]",
      "text/plain": [
       "<Figure size 576x432 with 1 Axes>"
      ]
     },
     "metadata": {
      "needs_background": "light"
     },
     "output_type": "display_data"
    }
   ],
   "source": [
    "import numpy as np\n",
    "\n",
    "from pymoo.algorithms.rnsga2 import RNSGA2\n",
    "from pymoo.factory import get_problem\n",
    "from pymoo.optimize import minimize\n",
    "from pymoo.visualization.scatter import Scatter\n",
    "\n",
    "problem = get_problem(\"zdt1\", n_var=30)\n",
    "pf = problem.pareto_front()\n",
    "\n",
    "# Define reference points\n",
    "ref_points = np.array([[0.5, 0.2], [0.1, 0.6]])\n",
    "\n",
    "# Get Algorithm\n",
    "algorithm = RNSGA2(\n",
    "    ref_points=ref_points,\n",
    "    pop_size=40,\n",
    "    epsilon=0.01,\n",
    "    normalization='front',\n",
    "    extreme_points_as_reference_points=False,\n",
    "    weights=np.array([0.5, 0.5]))\n",
    "\n",
    "res = minimize(problem,\n",
    "               algorithm,\n",
    "               save_history=True,\n",
    "               termination=('n_gen', 250),\n",
    "               seed=1,\n",
    "               pf=pf,\n",
    "               disp=False)\n",
    "\n",
    "\n",
    "Scatter().add(pf, label=\"pf\").add(res.F, label=\"F\").add(ref_points, label=\"ref_points\").show()"
   ]
  },
  {
   "cell_type": "markdown",
   "metadata": {},
   "source": [
    "# Paper Problem Example "
   ]
  },
  {
   "cell_type": "code",
   "execution_count": 17,
   "metadata": {},
   "outputs": [],
   "source": [
    "import autograd.numpy as anp\n",
    "from pymoo.model.problem import Problem\n",
    "class MyProblem (Problem):\n",
    "    def __init__ (self):\n",
    "        super().__init__(n_var=2,\n",
    "                         n_obj=2,\n",
    "                         n_constr=2,\n",
    "                         xl=anp.array([-2,-2]),\n",
    "                         xu=anp.array([2,2]))\n",
    "\n",
    "    def _evaluate(self,x,out,*args,**kwargs):\n",
    "        f1 = x[:,0]**2 + x[:,1]**2\n",
    "        f2 = (x[:,0]*1)**2 + x[:,1]**2\n",
    "        g1 = 2*( x[:,0]-0.1)*(x[:,0]-0.9) / 0.18\n",
    "        g2 = -20*(x[:,0]*0.4)*(x[:,0]*0.6) / 4.8\n",
    "        \n",
    "        out[\"F\"] = anp.column_stack([f1,f2])\n",
    "        out[\"G\"] = anp.column_stack([g1,g2])"
   ]
  },
  {
   "cell_type": "code",
   "execution_count": 18,
   "metadata": {},
   "outputs": [],
   "source": [
    "from pymoo.algorithms.nsga2 import NSGA2\n",
    "from pymoo.factory import get_sampling, get_crossover, get_mutation\n",
    "\n",
    "algorithm = NSGA2(\n",
    "    pop_size=40 ,\n",
    "    n_offsprings=10 ,\n",
    "    sampling= get_sampling(\"real_random\") ,\n",
    "    crossover = get_crossover(\"real_sbx\", prob=0.9, \n",
    "                              eta=15) ,\n",
    "    mutation=get_mutation(\"real_pm\", eta=20) ,\n",
    "    eliminate_duplicates=True\n",
    ")"
   ]
  },
  {
   "cell_type": "code",
   "execution_count": 27,
   "metadata": {},
   "outputs": [],
   "source": [
    "from pymoo.optimize import minimize\n",
    "\n",
    "res = minimize( MyProblem() ,\n",
    "               algorithm ,\n",
    "               ('n_gen', 40),\n",
    "               seed=1 ,\n",
    "               verbose=False )"
   ]
  },
  {
   "cell_type": "markdown",
   "metadata": {},
   "source": [
    "### Gradient"
   ]
  },
  {
   "cell_type": "code",
   "execution_count": 23,
   "metadata": {},
   "outputs": [
    {
     "name": "stdout",
     "output_type": "stream",
     "text": [
      "[<autograd.numpy.numpy_boxes.ArrayBox object at 0x000001469ACA9A08>\n",
      " <autograd.numpy.numpy_boxes.ArrayBox object at 0x000001469ACA9E08>]\n"
     ]
    },
    {
     "ename": "AttributeError",
     "evalue": "'NoneType' object has no attribute 'print'",
     "output_type": "error",
     "traceback": [
      "\u001b[1;31m---------------------------------------------------------------------------\u001b[0m",
      "\u001b[1;31mAttributeError\u001b[0m                            Traceback (most recent call last)",
      "\u001b[1;32m<ipython-input-23-4a171d8815d3>\u001b[0m in \u001b[0;36m<module>\u001b[1;34m\u001b[0m\n\u001b[0;32m      2\u001b[0m                          return_values_of =[\"F\", \"dF\"])\n\u001b[0;32m      3\u001b[0m \u001b[0mprint\u001b[0m\u001b[1;33m(\u001b[0m\u001b[0mF\u001b[0m\u001b[1;33m)\u001b[0m\u001b[1;33m\u001b[0m\u001b[1;33m\u001b[0m\u001b[0m\n\u001b[1;32m----> 4\u001b[1;33m \u001b[0mprint\u001b[0m\u001b[1;33m(\u001b[0m\u001b[0mdF\u001b[0m\u001b[1;33m.\u001b[0m\u001b[0mprint\u001b[0m\u001b[1;33m)\u001b[0m\u001b[1;33m\u001b[0m\u001b[1;33m\u001b[0m\u001b[0m\n\u001b[0m",
      "\u001b[1;31mAttributeError\u001b[0m: 'NoneType' object has no attribute 'print'"
     ]
    }
   ],
   "source": [
    "F, dF = problem.evaluate(np.array([0.1, 0.2]) ,\n",
    "                         return_values_of =[\"F\", \"dF\"])\n",
    "print(F)\n",
    "print(dF)"
   ]
  },
  {
   "cell_type": "code",
   "execution_count": null,
   "metadata": {},
   "outputs": [],
   "source": []
  }
 ],
 "metadata": {
  "kernelspec": {
   "display_name": "Python 3",
   "language": "python",
   "name": "python3"
  },
  "language_info": {
   "codemirror_mode": {
    "name": "ipython",
    "version": 3
   },
   "file_extension": ".py",
   "mimetype": "text/x-python",
   "name": "python",
   "nbconvert_exporter": "python",
   "pygments_lexer": "ipython3",
   "version": "3.7.6"
  }
 },
 "nbformat": 4,
 "nbformat_minor": 4
}
